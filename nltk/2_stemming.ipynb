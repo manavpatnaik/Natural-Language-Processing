{
 "cells": [
  {
   "cell_type": "markdown",
   "id": "d734c5b1",
   "metadata": {},
   "source": [
    "# Stemming"
   ]
  },
  {
   "cell_type": "code",
   "execution_count": 12,
   "id": "921e8945",
   "metadata": {},
   "outputs": [],
   "source": [
    "from nltk.tokenize import word_tokenize\n",
    "from nltk.stem import PorterStemmer, LancasterStemmer, SnowballStemmer"
   ]
  },
  {
   "cell_type": "code",
   "execution_count": 13,
   "id": "ee9ea545",
   "metadata": {},
   "outputs": [],
   "source": [
    "sentence = \"python pythonly pythoned pythoning pythoner\""
   ]
  },
  {
   "cell_type": "code",
   "execution_count": 14,
   "id": "0f933e03",
   "metadata": {},
   "outputs": [],
   "source": [
    "# words = ['ride', 'riding', 'sing', 'singing', 'drive', 'drives', 'driving']\n",
    "words = word_tokenize(sentence)"
   ]
  },
  {
   "cell_type": "code",
   "execution_count": 15,
   "id": "7693a3a7",
   "metadata": {},
   "outputs": [],
   "source": [
    "ps = PorterStemmer()"
   ]
  },
  {
   "cell_type": "code",
   "execution_count": 16,
   "id": "1e897731",
   "metadata": {},
   "outputs": [
    {
     "name": "stdout",
     "output_type": "stream",
     "text": [
      "python: python\n",
      "pythonly: pythonli\n",
      "pythoned: python\n",
      "pythoning: python\n",
      "pythoner: python\n"
     ]
    }
   ],
   "source": [
    "for word in words:\n",
    "    print(f'{word}: {ps.stem(word)}')"
   ]
  },
  {
   "cell_type": "code",
   "execution_count": 17,
   "id": "683d8458",
   "metadata": {},
   "outputs": [],
   "source": [
    "ss = SnowballStemmer(\"english\")"
   ]
  },
  {
   "cell_type": "code",
   "execution_count": 18,
   "id": "585b6d51",
   "metadata": {},
   "outputs": [
    {
     "name": "stdout",
     "output_type": "stream",
     "text": [
      "python: python\n",
      "pythonly: python\n",
      "pythoned: python\n",
      "pythoning: python\n",
      "pythoner: python\n"
     ]
    }
   ],
   "source": [
    "for word in words:\n",
    "    print(f'{word}: {ss.stem(word)}')"
   ]
  },
  {
   "cell_type": "markdown",
   "id": "a984c1f1",
   "metadata": {},
   "source": [
    "### A stricter stemmer - Lancaster Stemmer"
   ]
  },
  {
   "cell_type": "code",
   "execution_count": 19,
   "id": "0c8aa2ac",
   "metadata": {},
   "outputs": [],
   "source": [
    "ls = LancasterStemmer()"
   ]
  },
  {
   "cell_type": "code",
   "execution_count": 20,
   "id": "8291f90c",
   "metadata": {},
   "outputs": [
    {
     "name": "stdout",
     "output_type": "stream",
     "text": [
      "python: python\n",
      "pythonly: python\n",
      "pythoned: python\n",
      "pythoning: python\n",
      "pythoner: python\n"
     ]
    }
   ],
   "source": [
    "for word in words:\n",
    "    print(f'{word}: {ls.stem(word)}')"
   ]
  },
  {
   "cell_type": "code",
   "execution_count": null,
   "id": "906ba466",
   "metadata": {},
   "outputs": [],
   "source": []
  }
 ],
 "metadata": {
  "kernelspec": {
   "display_name": "Python 3 (ipykernel)",
   "language": "python",
   "name": "python3"
  },
  "language_info": {
   "codemirror_mode": {
    "name": "ipython",
    "version": 3
   },
   "file_extension": ".py",
   "mimetype": "text/x-python",
   "name": "python",
   "nbconvert_exporter": "python",
   "pygments_lexer": "ipython3",
   "version": "3.10.1"
  }
 },
 "nbformat": 4,
 "nbformat_minor": 5
}
