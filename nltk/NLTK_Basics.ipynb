{
 "cells": [
  {
   "cell_type": "code",
   "execution_count": 285,
   "id": "dbbabe6d",
   "metadata": {},
   "outputs": [],
   "source": [
    "import nltk\n",
    "from nltk.corpus import brown"
   ]
  },
  {
   "cell_type": "code",
   "execution_count": 286,
   "id": "e7bcfe33",
   "metadata": {},
   "outputs": [
    {
     "data": {
      "text/plain": [
       "['The', 'Fulton', 'County', 'Grand', 'Jury', 'said', ...]"
      ]
     },
     "execution_count": 286,
     "metadata": {},
     "output_type": "execute_result"
    }
   ],
   "source": [
    "brown.words()"
   ]
  },
  {
   "cell_type": "code",
   "execution_count": 287,
   "id": "a54c55e4",
   "metadata": {},
   "outputs": [
    {
     "data": {
      "text/plain": [
       "['ca01',\n",
       " 'ca02',\n",
       " 'ca03',\n",
       " 'ca04',\n",
       " 'ca05',\n",
       " 'ca06',\n",
       " 'ca07',\n",
       " 'ca08',\n",
       " 'ca09',\n",
       " 'ca10',\n",
       " 'ca11',\n",
       " 'ca12',\n",
       " 'ca13',\n",
       " 'ca14',\n",
       " 'ca15',\n",
       " 'ca16',\n",
       " 'ca17',\n",
       " 'ca18',\n",
       " 'ca19',\n",
       " 'ca20',\n",
       " 'ca21',\n",
       " 'ca22',\n",
       " 'ca23',\n",
       " 'ca24',\n",
       " 'ca25',\n",
       " 'ca26',\n",
       " 'ca27',\n",
       " 'ca28',\n",
       " 'ca29',\n",
       " 'ca30',\n",
       " 'ca31',\n",
       " 'ca32',\n",
       " 'ca33',\n",
       " 'ca34',\n",
       " 'ca35',\n",
       " 'ca36',\n",
       " 'ca37',\n",
       " 'ca38',\n",
       " 'ca39',\n",
       " 'ca40',\n",
       " 'ca41',\n",
       " 'ca42',\n",
       " 'ca43',\n",
       " 'ca44',\n",
       " 'cb01',\n",
       " 'cb02',\n",
       " 'cb03',\n",
       " 'cb04',\n",
       " 'cb05',\n",
       " 'cb06',\n",
       " 'cb07',\n",
       " 'cb08',\n",
       " 'cb09',\n",
       " 'cb10',\n",
       " 'cb11',\n",
       " 'cb12',\n",
       " 'cb13',\n",
       " 'cb14',\n",
       " 'cb15',\n",
       " 'cb16',\n",
       " 'cb17',\n",
       " 'cb18',\n",
       " 'cb19',\n",
       " 'cb20',\n",
       " 'cb21',\n",
       " 'cb22',\n",
       " 'cb23',\n",
       " 'cb24',\n",
       " 'cb25',\n",
       " 'cb26',\n",
       " 'cb27',\n",
       " 'cc01',\n",
       " 'cc02',\n",
       " 'cc03',\n",
       " 'cc04',\n",
       " 'cc05',\n",
       " 'cc06',\n",
       " 'cc07',\n",
       " 'cc08',\n",
       " 'cc09',\n",
       " 'cc10',\n",
       " 'cc11',\n",
       " 'cc12',\n",
       " 'cc13',\n",
       " 'cc14',\n",
       " 'cc15',\n",
       " 'cc16',\n",
       " 'cc17',\n",
       " 'cd01',\n",
       " 'cd02',\n",
       " 'cd03',\n",
       " 'cd04',\n",
       " 'cd05',\n",
       " 'cd06',\n",
       " 'cd07',\n",
       " 'cd08',\n",
       " 'cd09',\n",
       " 'cd10',\n",
       " 'cd11',\n",
       " 'cd12',\n",
       " 'cd13',\n",
       " 'cd14',\n",
       " 'cd15',\n",
       " 'cd16',\n",
       " 'cd17',\n",
       " 'ce01',\n",
       " 'ce02',\n",
       " 'ce03',\n",
       " 'ce04',\n",
       " 'ce05',\n",
       " 'ce06',\n",
       " 'ce07',\n",
       " 'ce08',\n",
       " 'ce09',\n",
       " 'ce10',\n",
       " 'ce11',\n",
       " 'ce12',\n",
       " 'ce13',\n",
       " 'ce14',\n",
       " 'ce15',\n",
       " 'ce16',\n",
       " 'ce17',\n",
       " 'ce18',\n",
       " 'ce19',\n",
       " 'ce20',\n",
       " 'ce21',\n",
       " 'ce22',\n",
       " 'ce23',\n",
       " 'ce24',\n",
       " 'ce25',\n",
       " 'ce26',\n",
       " 'ce27',\n",
       " 'ce28',\n",
       " 'ce29',\n",
       " 'ce30',\n",
       " 'ce31',\n",
       " 'ce32',\n",
       " 'ce33',\n",
       " 'ce34',\n",
       " 'ce35',\n",
       " 'ce36',\n",
       " 'cf01',\n",
       " 'cf02',\n",
       " 'cf03',\n",
       " 'cf04',\n",
       " 'cf05',\n",
       " 'cf06',\n",
       " 'cf07',\n",
       " 'cf08',\n",
       " 'cf09',\n",
       " 'cf10',\n",
       " 'cf11',\n",
       " 'cf12',\n",
       " 'cf13',\n",
       " 'cf14',\n",
       " 'cf15',\n",
       " 'cf16',\n",
       " 'cf17',\n",
       " 'cf18',\n",
       " 'cf19',\n",
       " 'cf20',\n",
       " 'cf21',\n",
       " 'cf22',\n",
       " 'cf23',\n",
       " 'cf24',\n",
       " 'cf25',\n",
       " 'cf26',\n",
       " 'cf27',\n",
       " 'cf28',\n",
       " 'cf29',\n",
       " 'cf30',\n",
       " 'cf31',\n",
       " 'cf32',\n",
       " 'cf33',\n",
       " 'cf34',\n",
       " 'cf35',\n",
       " 'cf36',\n",
       " 'cf37',\n",
       " 'cf38',\n",
       " 'cf39',\n",
       " 'cf40',\n",
       " 'cf41',\n",
       " 'cf42',\n",
       " 'cf43',\n",
       " 'cf44',\n",
       " 'cf45',\n",
       " 'cf46',\n",
       " 'cf47',\n",
       " 'cf48',\n",
       " 'cg01',\n",
       " 'cg02',\n",
       " 'cg03',\n",
       " 'cg04',\n",
       " 'cg05',\n",
       " 'cg06',\n",
       " 'cg07',\n",
       " 'cg08',\n",
       " 'cg09',\n",
       " 'cg10',\n",
       " 'cg11',\n",
       " 'cg12',\n",
       " 'cg13',\n",
       " 'cg14',\n",
       " 'cg15',\n",
       " 'cg16',\n",
       " 'cg17',\n",
       " 'cg18',\n",
       " 'cg19',\n",
       " 'cg20',\n",
       " 'cg21',\n",
       " 'cg22',\n",
       " 'cg23',\n",
       " 'cg24',\n",
       " 'cg25',\n",
       " 'cg26',\n",
       " 'cg27',\n",
       " 'cg28',\n",
       " 'cg29',\n",
       " 'cg30',\n",
       " 'cg31',\n",
       " 'cg32',\n",
       " 'cg33',\n",
       " 'cg34',\n",
       " 'cg35',\n",
       " 'cg36',\n",
       " 'cg37',\n",
       " 'cg38',\n",
       " 'cg39',\n",
       " 'cg40',\n",
       " 'cg41',\n",
       " 'cg42',\n",
       " 'cg43',\n",
       " 'cg44',\n",
       " 'cg45',\n",
       " 'cg46',\n",
       " 'cg47',\n",
       " 'cg48',\n",
       " 'cg49',\n",
       " 'cg50',\n",
       " 'cg51',\n",
       " 'cg52',\n",
       " 'cg53',\n",
       " 'cg54',\n",
       " 'cg55',\n",
       " 'cg56',\n",
       " 'cg57',\n",
       " 'cg58',\n",
       " 'cg59',\n",
       " 'cg60',\n",
       " 'cg61',\n",
       " 'cg62',\n",
       " 'cg63',\n",
       " 'cg64',\n",
       " 'cg65',\n",
       " 'cg66',\n",
       " 'cg67',\n",
       " 'cg68',\n",
       " 'cg69',\n",
       " 'cg70',\n",
       " 'cg71',\n",
       " 'cg72',\n",
       " 'cg73',\n",
       " 'cg74',\n",
       " 'cg75',\n",
       " 'ch01',\n",
       " 'ch02',\n",
       " 'ch03',\n",
       " 'ch04',\n",
       " 'ch05',\n",
       " 'ch06',\n",
       " 'ch07',\n",
       " 'ch08',\n",
       " 'ch09',\n",
       " 'ch10',\n",
       " 'ch11',\n",
       " 'ch12',\n",
       " 'ch13',\n",
       " 'ch14',\n",
       " 'ch15',\n",
       " 'ch16',\n",
       " 'ch17',\n",
       " 'ch18',\n",
       " 'ch19',\n",
       " 'ch20',\n",
       " 'ch21',\n",
       " 'ch22',\n",
       " 'ch23',\n",
       " 'ch24',\n",
       " 'ch25',\n",
       " 'ch26',\n",
       " 'ch27',\n",
       " 'ch28',\n",
       " 'ch29',\n",
       " 'ch30',\n",
       " 'cj01',\n",
       " 'cj02',\n",
       " 'cj03',\n",
       " 'cj04',\n",
       " 'cj05',\n",
       " 'cj06',\n",
       " 'cj07',\n",
       " 'cj08',\n",
       " 'cj09',\n",
       " 'cj10',\n",
       " 'cj11',\n",
       " 'cj12',\n",
       " 'cj13',\n",
       " 'cj14',\n",
       " 'cj15',\n",
       " 'cj16',\n",
       " 'cj17',\n",
       " 'cj18',\n",
       " 'cj19',\n",
       " 'cj20',\n",
       " 'cj21',\n",
       " 'cj22',\n",
       " 'cj23',\n",
       " 'cj24',\n",
       " 'cj25',\n",
       " 'cj26',\n",
       " 'cj27',\n",
       " 'cj28',\n",
       " 'cj29',\n",
       " 'cj30',\n",
       " 'cj31',\n",
       " 'cj32',\n",
       " 'cj33',\n",
       " 'cj34',\n",
       " 'cj35',\n",
       " 'cj36',\n",
       " 'cj37',\n",
       " 'cj38',\n",
       " 'cj39',\n",
       " 'cj40',\n",
       " 'cj41',\n",
       " 'cj42',\n",
       " 'cj43',\n",
       " 'cj44',\n",
       " 'cj45',\n",
       " 'cj46',\n",
       " 'cj47',\n",
       " 'cj48',\n",
       " 'cj49',\n",
       " 'cj50',\n",
       " 'cj51',\n",
       " 'cj52',\n",
       " 'cj53',\n",
       " 'cj54',\n",
       " 'cj55',\n",
       " 'cj56',\n",
       " 'cj57',\n",
       " 'cj58',\n",
       " 'cj59',\n",
       " 'cj60',\n",
       " 'cj61',\n",
       " 'cj62',\n",
       " 'cj63',\n",
       " 'cj64',\n",
       " 'cj65',\n",
       " 'cj66',\n",
       " 'cj67',\n",
       " 'cj68',\n",
       " 'cj69',\n",
       " 'cj70',\n",
       " 'cj71',\n",
       " 'cj72',\n",
       " 'cj73',\n",
       " 'cj74',\n",
       " 'cj75',\n",
       " 'cj76',\n",
       " 'cj77',\n",
       " 'cj78',\n",
       " 'cj79',\n",
       " 'cj80',\n",
       " 'ck01',\n",
       " 'ck02',\n",
       " 'ck03',\n",
       " 'ck04',\n",
       " 'ck05',\n",
       " 'ck06',\n",
       " 'ck07',\n",
       " 'ck08',\n",
       " 'ck09',\n",
       " 'ck10',\n",
       " 'ck11',\n",
       " 'ck12',\n",
       " 'ck13',\n",
       " 'ck14',\n",
       " 'ck15',\n",
       " 'ck16',\n",
       " 'ck17',\n",
       " 'ck18',\n",
       " 'ck19',\n",
       " 'ck20',\n",
       " 'ck21',\n",
       " 'ck22',\n",
       " 'ck23',\n",
       " 'ck24',\n",
       " 'ck25',\n",
       " 'ck26',\n",
       " 'ck27',\n",
       " 'ck28',\n",
       " 'ck29',\n",
       " 'cl01',\n",
       " 'cl02',\n",
       " 'cl03',\n",
       " 'cl04',\n",
       " 'cl05',\n",
       " 'cl06',\n",
       " 'cl07',\n",
       " 'cl08',\n",
       " 'cl09',\n",
       " 'cl10',\n",
       " 'cl11',\n",
       " 'cl12',\n",
       " 'cl13',\n",
       " 'cl14',\n",
       " 'cl15',\n",
       " 'cl16',\n",
       " 'cl17',\n",
       " 'cl18',\n",
       " 'cl19',\n",
       " 'cl20',\n",
       " 'cl21',\n",
       " 'cl22',\n",
       " 'cl23',\n",
       " 'cl24',\n",
       " 'cm01',\n",
       " 'cm02',\n",
       " 'cm03',\n",
       " 'cm04',\n",
       " 'cm05',\n",
       " 'cm06',\n",
       " 'cn01',\n",
       " 'cn02',\n",
       " 'cn03',\n",
       " 'cn04',\n",
       " 'cn05',\n",
       " 'cn06',\n",
       " 'cn07',\n",
       " 'cn08',\n",
       " 'cn09',\n",
       " 'cn10',\n",
       " 'cn11',\n",
       " 'cn12',\n",
       " 'cn13',\n",
       " 'cn14',\n",
       " 'cn15',\n",
       " 'cn16',\n",
       " 'cn17',\n",
       " 'cn18',\n",
       " 'cn19',\n",
       " 'cn20',\n",
       " 'cn21',\n",
       " 'cn22',\n",
       " 'cn23',\n",
       " 'cn24',\n",
       " 'cn25',\n",
       " 'cn26',\n",
       " 'cn27',\n",
       " 'cn28',\n",
       " 'cn29',\n",
       " 'cp01',\n",
       " 'cp02',\n",
       " 'cp03',\n",
       " 'cp04',\n",
       " 'cp05',\n",
       " 'cp06',\n",
       " 'cp07',\n",
       " 'cp08',\n",
       " 'cp09',\n",
       " 'cp10',\n",
       " 'cp11',\n",
       " 'cp12',\n",
       " 'cp13',\n",
       " 'cp14',\n",
       " 'cp15',\n",
       " 'cp16',\n",
       " 'cp17',\n",
       " 'cp18',\n",
       " 'cp19',\n",
       " 'cp20',\n",
       " 'cp21',\n",
       " 'cp22',\n",
       " 'cp23',\n",
       " 'cp24',\n",
       " 'cp25',\n",
       " 'cp26',\n",
       " 'cp27',\n",
       " 'cp28',\n",
       " 'cp29',\n",
       " 'cr01',\n",
       " 'cr02',\n",
       " 'cr03',\n",
       " 'cr04',\n",
       " 'cr05',\n",
       " 'cr06',\n",
       " 'cr07',\n",
       " 'cr08',\n",
       " 'cr09']"
      ]
     },
     "execution_count": 287,
     "metadata": {},
     "output_type": "execute_result"
    }
   ],
   "source": [
    "nltk.corpus.brown.fileids()"
   ]
  },
  {
   "cell_type": "code",
   "execution_count": 288,
   "id": "26b30073",
   "metadata": {},
   "outputs": [
    {
     "data": {
      "text/plain": [
       "['[', 'The', 'Tragedie', 'of', 'Hamlet', 'by', ...]"
      ]
     },
     "execution_count": 288,
     "metadata": {},
     "output_type": "execute_result"
    }
   ],
   "source": [
    "hamlet = nltk.corpus.gutenberg.words('shakespeare-hamlet.txt')\n",
    "hamlet"
   ]
  },
  {
   "cell_type": "code",
   "execution_count": 289,
   "id": "4b88cca3",
   "metadata": {},
   "outputs": [],
   "source": [
    "hamlet_str = ''\n",
    "for word in hamlet[:500]:\n",
    "    hamlet_str += word + ' '"
   ]
  },
  {
   "cell_type": "code",
   "execution_count": 290,
   "id": "d2cf6ce5",
   "metadata": {},
   "outputs": [
    {
     "data": {
      "text/plain": [
       "\"[ The Tragedie of Hamlet by William Shakespeare 1599 ] Actus Primus . Scoena Prima . Enter Barnardo and Francisco two Centinels . Barnardo . Who ' s there ? Fran . Nay answer me : Stand & vnfold your selfe Bar . Long liue the King Fran . Barnardo ? Bar . He Fran . You come most carefully vpon your houre Bar . ' Tis now strook twelue , get thee to bed Francisco Fran . For this releefe much thankes : ' Tis bitter cold , And I am sicke at heart Barn . Haue you had quiet Guard ? Fran . Not a Mouse stirring Barn . Well , goodnight . If you do meet Horatio and Marcellus , the Riuals of my Watch , bid them make hast . Enter Horatio and Marcellus . Fran . I thinke I heare them . Stand : who ' s there ? Hor . Friends to this ground Mar . And Leige - men to the Dane Fran . Giue you good night Mar . O farwel honest Soldier , who hath relieu ' d you ? Fra . Barnardo ha ' s my place : giue you goodnight . Exit Fran . Mar . Holla Barnardo Bar . Say , what is Horatio there ? Hor . A peece of him Bar . Welcome Horatio , welcome good Marcellus Mar . What , ha ' s this thing appear ' d againe to night Bar . I haue seene nothing Mar . Horatio saies , ' tis but our Fantasie , And will not let beleefe take hold of him Touching this dreaded sight , twice seene of vs , Therefore I haue intreated him along With vs , to watch the minutes of this Night , That if againe this Apparition come , He may approue our eyes , and speake to it Hor . Tush , tush , ' twill not appeare Bar . Sit downe a - while , And let vs once againe assaile your eares , That are so fortified against our Story , What we two Nights haue seene Hor . Well , sit we downe , And let vs heare Barnardo speake of this Barn . Last night of all , When yond same Starre that ' s Westward from the Pole Had made his course t ' illume that part of Heauen Where now it burnes , Marcellus and my selfe , The Bell then beating one Mar . Peace , breake thee of : Enter the Ghost . Looke where it comes againe Barn . In the same figure , like the King that ' s dead Mar . Thou art a Scholler ; speake to it Horatio Barn . Lookes it not like the King ? Marke it Horatio Hora . Most like : It harrowes me with fear & wonder Barn . It would be spoke too Mar . Question it Horatio Hor . What art \""
      ]
     },
     "execution_count": 290,
     "metadata": {},
     "output_type": "execute_result"
    }
   ],
   "source": [
    "hamlet_str"
   ]
  },
  {
   "cell_type": "code",
   "execution_count": 291,
   "id": "95dcc769",
   "metadata": {},
   "outputs": [
    {
     "data": {
      "text/plain": [
       "str"
      ]
     },
     "execution_count": 291,
     "metadata": {},
     "output_type": "execute_result"
    }
   ],
   "source": [
    "type(hamlet_str)"
   ]
  },
  {
   "cell_type": "markdown",
   "id": "f3f9574c",
   "metadata": {},
   "source": [
    "## Tokenization"
   ]
  },
  {
   "cell_type": "code",
   "execution_count": 292,
   "id": "ee7d5ffa",
   "metadata": {},
   "outputs": [],
   "source": [
    "from nltk.tokenize import word_tokenize"
   ]
  },
  {
   "cell_type": "code",
   "execution_count": 293,
   "id": "36ca9d3d",
   "metadata": {},
   "outputs": [
    {
     "data": {
      "text/plain": [
       "['[',\n",
       " 'The',\n",
       " 'Tragedie',\n",
       " 'of',\n",
       " 'Hamlet',\n",
       " 'by',\n",
       " 'William',\n",
       " 'Shakespeare',\n",
       " '1599',\n",
       " ']',\n",
       " 'Actus',\n",
       " 'Primus',\n",
       " '.',\n",
       " 'Scoena',\n",
       " 'Prima',\n",
       " '.',\n",
       " 'Enter',\n",
       " 'Barnardo',\n",
       " 'and',\n",
       " 'Francisco',\n",
       " 'two',\n",
       " 'Centinels',\n",
       " '.',\n",
       " 'Barnardo',\n",
       " '.',\n",
       " 'Who',\n",
       " \"'\",\n",
       " 's',\n",
       " 'there',\n",
       " '?',\n",
       " 'Fran',\n",
       " '.',\n",
       " 'Nay',\n",
       " 'answer',\n",
       " 'me',\n",
       " ':',\n",
       " 'Stand',\n",
       " '&',\n",
       " 'vnfold',\n",
       " 'your',\n",
       " 'selfe',\n",
       " 'Bar',\n",
       " '.',\n",
       " 'Long',\n",
       " 'liue',\n",
       " 'the',\n",
       " 'King',\n",
       " 'Fran',\n",
       " '.',\n",
       " 'Barnardo',\n",
       " '?',\n",
       " 'Bar',\n",
       " '.',\n",
       " 'He',\n",
       " 'Fran',\n",
       " '.',\n",
       " 'You',\n",
       " 'come',\n",
       " 'most',\n",
       " 'carefully',\n",
       " 'vpon',\n",
       " 'your',\n",
       " 'houre',\n",
       " 'Bar',\n",
       " '.',\n",
       " \"'\",\n",
       " 'Tis',\n",
       " 'now',\n",
       " 'strook',\n",
       " 'twelue',\n",
       " ',',\n",
       " 'get',\n",
       " 'thee',\n",
       " 'to',\n",
       " 'bed',\n",
       " 'Francisco',\n",
       " 'Fran',\n",
       " '.',\n",
       " 'For',\n",
       " 'this',\n",
       " 'releefe',\n",
       " 'much',\n",
       " 'thankes',\n",
       " ':',\n",
       " \"'\",\n",
       " 'Tis',\n",
       " 'bitter',\n",
       " 'cold',\n",
       " ',',\n",
       " 'And',\n",
       " 'I',\n",
       " 'am',\n",
       " 'sicke',\n",
       " 'at',\n",
       " 'heart',\n",
       " 'Barn',\n",
       " '.',\n",
       " 'Haue',\n",
       " 'you',\n",
       " 'had',\n",
       " 'quiet',\n",
       " 'Guard',\n",
       " '?',\n",
       " 'Fran',\n",
       " '.',\n",
       " 'Not',\n",
       " 'a',\n",
       " 'Mouse',\n",
       " 'stirring',\n",
       " 'Barn',\n",
       " '.',\n",
       " 'Well',\n",
       " ',',\n",
       " 'goodnight',\n",
       " '.',\n",
       " 'If',\n",
       " 'you',\n",
       " 'do',\n",
       " 'meet',\n",
       " 'Horatio',\n",
       " 'and',\n",
       " 'Marcellus',\n",
       " ',',\n",
       " 'the',\n",
       " 'Riuals',\n",
       " 'of',\n",
       " 'my',\n",
       " 'Watch',\n",
       " ',',\n",
       " 'bid',\n",
       " 'them',\n",
       " 'make',\n",
       " 'hast',\n",
       " '.',\n",
       " 'Enter',\n",
       " 'Horatio',\n",
       " 'and',\n",
       " 'Marcellus',\n",
       " '.',\n",
       " 'Fran',\n",
       " '.',\n",
       " 'I',\n",
       " 'thinke',\n",
       " 'I',\n",
       " 'heare',\n",
       " 'them',\n",
       " '.',\n",
       " 'Stand',\n",
       " ':',\n",
       " 'who',\n",
       " \"'\",\n",
       " 's',\n",
       " 'there',\n",
       " '?',\n",
       " 'Hor',\n",
       " '.',\n",
       " 'Friends',\n",
       " 'to',\n",
       " 'this',\n",
       " 'ground',\n",
       " 'Mar',\n",
       " '.',\n",
       " 'And',\n",
       " 'Leige',\n",
       " '-',\n",
       " 'men',\n",
       " 'to',\n",
       " 'the',\n",
       " 'Dane',\n",
       " 'Fran',\n",
       " '.',\n",
       " 'Giue',\n",
       " 'you',\n",
       " 'good',\n",
       " 'night',\n",
       " 'Mar',\n",
       " '.',\n",
       " 'O',\n",
       " 'farwel',\n",
       " 'honest',\n",
       " 'Soldier',\n",
       " ',',\n",
       " 'who',\n",
       " 'hath',\n",
       " 'relieu',\n",
       " \"'\",\n",
       " 'd',\n",
       " 'you',\n",
       " '?',\n",
       " 'Fra',\n",
       " '.',\n",
       " 'Barnardo',\n",
       " 'ha',\n",
       " \"'\",\n",
       " 's',\n",
       " 'my',\n",
       " 'place',\n",
       " ':',\n",
       " 'giue',\n",
       " 'you',\n",
       " 'goodnight',\n",
       " '.',\n",
       " 'Exit',\n",
       " 'Fran',\n",
       " '.',\n",
       " 'Mar',\n",
       " '.',\n",
       " 'Holla',\n",
       " 'Barnardo',\n",
       " 'Bar',\n",
       " '.',\n",
       " 'Say',\n",
       " ',',\n",
       " 'what',\n",
       " 'is',\n",
       " 'Horatio',\n",
       " 'there',\n",
       " '?',\n",
       " 'Hor',\n",
       " '.',\n",
       " 'A',\n",
       " 'peece',\n",
       " 'of',\n",
       " 'him',\n",
       " 'Bar',\n",
       " '.',\n",
       " 'Welcome',\n",
       " 'Horatio',\n",
       " ',',\n",
       " 'welcome',\n",
       " 'good',\n",
       " 'Marcellus',\n",
       " 'Mar',\n",
       " '.',\n",
       " 'What',\n",
       " ',',\n",
       " 'ha',\n",
       " \"'\",\n",
       " 's',\n",
       " 'this',\n",
       " 'thing',\n",
       " 'appear',\n",
       " \"'\",\n",
       " 'd',\n",
       " 'againe',\n",
       " 'to',\n",
       " 'night',\n",
       " 'Bar',\n",
       " '.',\n",
       " 'I',\n",
       " 'haue',\n",
       " 'seene',\n",
       " 'nothing',\n",
       " 'Mar',\n",
       " '.',\n",
       " 'Horatio',\n",
       " 'saies',\n",
       " ',',\n",
       " \"'\",\n",
       " 'tis',\n",
       " 'but',\n",
       " 'our',\n",
       " 'Fantasie',\n",
       " ',',\n",
       " 'And',\n",
       " 'will',\n",
       " 'not',\n",
       " 'let',\n",
       " 'beleefe',\n",
       " 'take',\n",
       " 'hold',\n",
       " 'of',\n",
       " 'him',\n",
       " 'Touching',\n",
       " 'this',\n",
       " 'dreaded',\n",
       " 'sight',\n",
       " ',',\n",
       " 'twice',\n",
       " 'seene',\n",
       " 'of',\n",
       " 'vs',\n",
       " ',',\n",
       " 'Therefore',\n",
       " 'I',\n",
       " 'haue',\n",
       " 'intreated',\n",
       " 'him',\n",
       " 'along',\n",
       " 'With',\n",
       " 'vs',\n",
       " ',',\n",
       " 'to',\n",
       " 'watch',\n",
       " 'the',\n",
       " 'minutes',\n",
       " 'of',\n",
       " 'this',\n",
       " 'Night',\n",
       " ',',\n",
       " 'That',\n",
       " 'if',\n",
       " 'againe',\n",
       " 'this',\n",
       " 'Apparition',\n",
       " 'come',\n",
       " ',',\n",
       " 'He',\n",
       " 'may',\n",
       " 'approue',\n",
       " 'our',\n",
       " 'eyes',\n",
       " ',',\n",
       " 'and',\n",
       " 'speake',\n",
       " 'to',\n",
       " 'it',\n",
       " 'Hor',\n",
       " '.',\n",
       " 'Tush',\n",
       " ',',\n",
       " 'tush',\n",
       " ',',\n",
       " \"'\",\n",
       " 'twill',\n",
       " 'not',\n",
       " 'appeare',\n",
       " 'Bar',\n",
       " '.',\n",
       " 'Sit',\n",
       " 'downe',\n",
       " 'a',\n",
       " '-',\n",
       " 'while',\n",
       " ',',\n",
       " 'And',\n",
       " 'let',\n",
       " 'vs',\n",
       " 'once',\n",
       " 'againe',\n",
       " 'assaile',\n",
       " 'your',\n",
       " 'eares',\n",
       " ',',\n",
       " 'That',\n",
       " 'are',\n",
       " 'so',\n",
       " 'fortified',\n",
       " 'against',\n",
       " 'our',\n",
       " 'Story',\n",
       " ',',\n",
       " 'What',\n",
       " 'we',\n",
       " 'two',\n",
       " 'Nights',\n",
       " 'haue',\n",
       " 'seene',\n",
       " 'Hor',\n",
       " '.',\n",
       " 'Well',\n",
       " ',',\n",
       " 'sit',\n",
       " 'we',\n",
       " 'downe',\n",
       " ',',\n",
       " 'And',\n",
       " 'let',\n",
       " 'vs',\n",
       " 'heare',\n",
       " 'Barnardo',\n",
       " 'speake',\n",
       " 'of',\n",
       " 'this',\n",
       " 'Barn',\n",
       " '.',\n",
       " 'Last',\n",
       " 'night',\n",
       " 'of',\n",
       " 'all',\n",
       " ',',\n",
       " 'When',\n",
       " 'yond',\n",
       " 'same',\n",
       " 'Starre',\n",
       " 'that',\n",
       " \"'\",\n",
       " 's',\n",
       " 'Westward',\n",
       " 'from',\n",
       " 'the',\n",
       " 'Pole',\n",
       " 'Had',\n",
       " 'made',\n",
       " 'his',\n",
       " 'course',\n",
       " 't',\n",
       " \"'\",\n",
       " 'illume',\n",
       " 'that',\n",
       " 'part',\n",
       " 'of',\n",
       " 'Heauen',\n",
       " 'Where',\n",
       " 'now',\n",
       " 'it',\n",
       " 'burnes',\n",
       " ',',\n",
       " 'Marcellus',\n",
       " 'and',\n",
       " 'my',\n",
       " 'selfe',\n",
       " ',',\n",
       " 'The',\n",
       " 'Bell',\n",
       " 'then',\n",
       " 'beating',\n",
       " 'one',\n",
       " 'Mar',\n",
       " '.',\n",
       " 'Peace',\n",
       " ',',\n",
       " 'breake',\n",
       " 'thee',\n",
       " 'of',\n",
       " ':',\n",
       " 'Enter',\n",
       " 'the',\n",
       " 'Ghost',\n",
       " '.',\n",
       " 'Looke',\n",
       " 'where',\n",
       " 'it',\n",
       " 'comes',\n",
       " 'againe',\n",
       " 'Barn',\n",
       " '.',\n",
       " 'In',\n",
       " 'the',\n",
       " 'same',\n",
       " 'figure',\n",
       " ',',\n",
       " 'like',\n",
       " 'the',\n",
       " 'King',\n",
       " 'that',\n",
       " \"'\",\n",
       " 's',\n",
       " 'dead',\n",
       " 'Mar',\n",
       " '.',\n",
       " 'Thou',\n",
       " 'art',\n",
       " 'a',\n",
       " 'Scholler',\n",
       " ';',\n",
       " 'speake',\n",
       " 'to',\n",
       " 'it',\n",
       " 'Horatio',\n",
       " 'Barn',\n",
       " '.',\n",
       " 'Lookes',\n",
       " 'it',\n",
       " 'not',\n",
       " 'like',\n",
       " 'the',\n",
       " 'King',\n",
       " '?',\n",
       " 'Marke',\n",
       " 'it',\n",
       " 'Horatio',\n",
       " 'Hora',\n",
       " '.',\n",
       " 'Most',\n",
       " 'like',\n",
       " ':',\n",
       " 'It',\n",
       " 'harrowes',\n",
       " 'me',\n",
       " 'with',\n",
       " 'fear',\n",
       " '&',\n",
       " 'wonder',\n",
       " 'Barn',\n",
       " '.',\n",
       " 'It',\n",
       " 'would',\n",
       " 'be',\n",
       " 'spoke',\n",
       " 'too',\n",
       " 'Mar',\n",
       " '.',\n",
       " 'Question',\n",
       " 'it',\n",
       " 'Horatio',\n",
       " 'Hor',\n",
       " '.',\n",
       " 'What',\n",
       " 'art']"
      ]
     },
     "execution_count": 293,
     "metadata": {},
     "output_type": "execute_result"
    }
   ],
   "source": [
    "hamlet_tokens = word_tokenize(hamlet_str)\n",
    "hamlet_tokens"
   ]
  },
  {
   "cell_type": "code",
   "execution_count": 294,
   "id": "63fe0bfb",
   "metadata": {},
   "outputs": [
    {
     "data": {
      "text/plain": [
       "500"
      ]
     },
     "execution_count": 294,
     "metadata": {},
     "output_type": "execute_result"
    }
   ],
   "source": [
    "len(hamlet_tokens)"
   ]
  },
  {
   "cell_type": "code",
   "execution_count": 295,
   "id": "e11f4641",
   "metadata": {},
   "outputs": [],
   "source": [
    "from nltk.probability import FreqDist\n",
    "fdist = FreqDist()"
   ]
  },
  {
   "cell_type": "code",
   "execution_count": 296,
   "id": "1afbede5",
   "metadata": {},
   "outputs": [
    {
     "data": {
      "text/plain": [
       "FreqDist({'.': 46, ',': 29, \"'\": 13, 'the': 11, 'of': 10, 'and': 10, 'it': 9, 'fran': 8, 'horatio': 8, 'mar': 8, ...})"
      ]
     },
     "execution_count": 296,
     "metadata": {},
     "output_type": "execute_result"
    }
   ],
   "source": [
    "for token in hamlet_tokens:\n",
    "    fdist[token.lower()] += 1\n",
    "fdist"
   ]
  },
  {
   "cell_type": "code",
   "execution_count": 297,
   "id": "a2b00fe8",
   "metadata": {},
   "outputs": [
    {
     "data": {
      "text/plain": [
       "[('.', 46),\n",
       " (',', 29),\n",
       " (\"'\", 13),\n",
       " ('the', 11),\n",
       " ('of', 10),\n",
       " ('and', 10),\n",
       " ('it', 9),\n",
       " ('fran', 8),\n",
       " ('horatio', 8),\n",
       " ('mar', 8)]"
      ]
     },
     "execution_count": 297,
     "metadata": {},
     "output_type": "execute_result"
    }
   ],
   "source": [
    "fdist_top10 = fdist.most_common(10)\n",
    "fdist_top10"
   ]
  },
  {
   "cell_type": "markdown",
   "id": "7c7d8bf5",
   "metadata": {},
   "source": [
    "### Using the blankline_tokenizer\n",
    "\n",
    "Here blank lines are used as separators. Since there arent any in this text, so just 1 token"
   ]
  },
  {
   "cell_type": "code",
   "execution_count": 298,
   "id": "e2fc6486",
   "metadata": {},
   "outputs": [
    {
     "data": {
      "text/plain": [
       "1"
      ]
     },
     "execution_count": 298,
     "metadata": {},
     "output_type": "execute_result"
    }
   ],
   "source": [
    "from nltk.tokenize import blankline_tokenize\n",
    "hamlet_blankline_tokens = blankline_tokenize(hamlet_str)\n",
    "len(hamlet_blankline_tokens)"
   ]
  },
  {
   "cell_type": "code",
   "execution_count": 299,
   "id": "952af4d4",
   "metadata": {},
   "outputs": [
    {
     "data": {
      "text/plain": [
       "[\"[ The Tragedie of Hamlet by William Shakespeare 1599 ] Actus Primus . Scoena Prima . Enter Barnardo and Francisco two Centinels . Barnardo . Who ' s there ? Fran . Nay answer me : Stand & vnfold your selfe Bar . Long liue the King Fran . Barnardo ? Bar . He Fran . You come most carefully vpon your houre Bar . ' Tis now strook twelue , get thee to bed Francisco Fran . For this releefe much thankes : ' Tis bitter cold , And I am sicke at heart Barn . Haue you had quiet Guard ? Fran . Not a Mouse stirring Barn . Well , goodnight . If you do meet Horatio and Marcellus , the Riuals of my Watch , bid them make hast . Enter Horatio and Marcellus . Fran . I thinke I heare them . Stand : who ' s there ? Hor . Friends to this ground Mar . And Leige - men to the Dane Fran . Giue you good night Mar . O farwel honest Soldier , who hath relieu ' d you ? Fra . Barnardo ha ' s my place : giue you goodnight . Exit Fran . Mar . Holla Barnardo Bar . Say , what is Horatio there ? Hor . A peece of him Bar . Welcome Horatio , welcome good Marcellus Mar . What , ha ' s this thing appear ' d againe to night Bar . I haue seene nothing Mar . Horatio saies , ' tis but our Fantasie , And will not let beleefe take hold of him Touching this dreaded sight , twice seene of vs , Therefore I haue intreated him along With vs , to watch the minutes of this Night , That if againe this Apparition come , He may approue our eyes , and speake to it Hor . Tush , tush , ' twill not appeare Bar . Sit downe a - while , And let vs once againe assaile your eares , That are so fortified against our Story , What we two Nights haue seene Hor . Well , sit we downe , And let vs heare Barnardo speake of this Barn . Last night of all , When yond same Starre that ' s Westward from the Pole Had made his course t ' illume that part of Heauen Where now it burnes , Marcellus and my selfe , The Bell then beating one Mar . Peace , breake thee of : Enter the Ghost . Looke where it comes againe Barn . In the same figure , like the King that ' s dead Mar . Thou art a Scholler ; speake to it Horatio Barn . Lookes it not like the King ? Marke it Horatio Hora . Most like : It harrowes me with fear & wonder Barn . It would be spoke too Mar . Question it Horatio Hor . What art \"]"
      ]
     },
     "execution_count": 299,
     "metadata": {},
     "output_type": "execute_result"
    }
   ],
   "source": [
    "hamlet_blankline_tokens"
   ]
  },
  {
   "cell_type": "markdown",
   "id": "e953c537",
   "metadata": {},
   "source": [
    "## Bigrams Trigrams and N-Grams"
   ]
  },
  {
   "cell_type": "code",
   "execution_count": 300,
   "id": "2434fd3f",
   "metadata": {},
   "outputs": [],
   "source": [
    "from nltk.util import bigrams, trigrams, ngrams"
   ]
  },
  {
   "cell_type": "code",
   "execution_count": 301,
   "id": "a2b3b4e5",
   "metadata": {},
   "outputs": [],
   "source": [
    "text = \"The most beautiful thing about learning is that no one can take it away from you\""
   ]
  },
  {
   "cell_type": "code",
   "execution_count": 302,
   "id": "afbdc30c",
   "metadata": {},
   "outputs": [
    {
     "data": {
      "text/plain": [
       "['The',\n",
       " 'most',\n",
       " 'beautiful',\n",
       " 'thing',\n",
       " 'about',\n",
       " 'learning',\n",
       " 'is',\n",
       " 'that',\n",
       " 'no',\n",
       " 'one',\n",
       " 'can',\n",
       " 'take',\n",
       " 'it',\n",
       " 'away',\n",
       " 'from',\n",
       " 'you']"
      ]
     },
     "execution_count": 302,
     "metadata": {},
     "output_type": "execute_result"
    }
   ],
   "source": [
    "text_tokens = word_tokenize(text)\n",
    "text_tokens"
   ]
  },
  {
   "cell_type": "code",
   "execution_count": 303,
   "id": "a3705101",
   "metadata": {},
   "outputs": [
    {
     "data": {
      "text/plain": [
       "[('The', 'most'),\n",
       " ('most', 'beautiful'),\n",
       " ('beautiful', 'thing'),\n",
       " ('thing', 'about'),\n",
       " ('about', 'learning'),\n",
       " ('learning', 'is'),\n",
       " ('is', 'that'),\n",
       " ('that', 'no'),\n",
       " ('no', 'one'),\n",
       " ('one', 'can'),\n",
       " ('can', 'take'),\n",
       " ('take', 'it'),\n",
       " ('it', 'away'),\n",
       " ('away', 'from'),\n",
       " ('from', 'you')]"
      ]
     },
     "execution_count": 303,
     "metadata": {},
     "output_type": "execute_result"
    }
   ],
   "source": [
    "text_bigrams = list(bigrams(text_tokens))\n",
    "text_bigrams"
   ]
  },
  {
   "cell_type": "code",
   "execution_count": 304,
   "id": "7c1e0fbf",
   "metadata": {},
   "outputs": [
    {
     "data": {
      "text/plain": [
       "[('The', 'most', 'beautiful'),\n",
       " ('most', 'beautiful', 'thing'),\n",
       " ('beautiful', 'thing', 'about'),\n",
       " ('thing', 'about', 'learning'),\n",
       " ('about', 'learning', 'is'),\n",
       " ('learning', 'is', 'that'),\n",
       " ('is', 'that', 'no'),\n",
       " ('that', 'no', 'one'),\n",
       " ('no', 'one', 'can'),\n",
       " ('one', 'can', 'take'),\n",
       " ('can', 'take', 'it'),\n",
       " ('take', 'it', 'away'),\n",
       " ('it', 'away', 'from'),\n",
       " ('away', 'from', 'you')]"
      ]
     },
     "execution_count": 304,
     "metadata": {},
     "output_type": "execute_result"
    }
   ],
   "source": [
    "text_trigrams = list(trigrams(text_tokens))\n",
    "text_trigrams"
   ]
  },
  {
   "cell_type": "code",
   "execution_count": 305,
   "id": "3c1f7b04",
   "metadata": {},
   "outputs": [
    {
     "data": {
      "text/plain": [
       "[('The', 'most', 'beautiful', 'thing'),\n",
       " ('most', 'beautiful', 'thing', 'about'),\n",
       " ('beautiful', 'thing', 'about', 'learning'),\n",
       " ('thing', 'about', 'learning', 'is'),\n",
       " ('about', 'learning', 'is', 'that'),\n",
       " ('learning', 'is', 'that', 'no'),\n",
       " ('is', 'that', 'no', 'one'),\n",
       " ('that', 'no', 'one', 'can'),\n",
       " ('no', 'one', 'can', 'take'),\n",
       " ('one', 'can', 'take', 'it'),\n",
       " ('can', 'take', 'it', 'away'),\n",
       " ('take', 'it', 'away', 'from'),\n",
       " ('it', 'away', 'from', 'you')]"
      ]
     },
     "execution_count": 305,
     "metadata": {},
     "output_type": "execute_result"
    }
   ],
   "source": [
    "text_ngrams = list(ngrams(text_tokens, 4))\n",
    "text_ngrams"
   ]
  },
  {
   "cell_type": "markdown",
   "id": "59489f92",
   "metadata": {},
   "source": [
    "## Stemming"
   ]
  },
  {
   "cell_type": "code",
   "execution_count": 306,
   "id": "a7e41c62",
   "metadata": {},
   "outputs": [],
   "source": [
    "from nltk.stem import PorterStemmer\n",
    "stemmer = PorterStemmer()"
   ]
  },
  {
   "cell_type": "code",
   "execution_count": 307,
   "id": "7d63a9ff",
   "metadata": {},
   "outputs": [],
   "source": [
    "words = ['having', 'thanks', 'drivers', 'driving']"
   ]
  },
  {
   "cell_type": "code",
   "execution_count": 308,
   "id": "8558066f",
   "metadata": {},
   "outputs": [
    {
     "name": "stdout",
     "output_type": "stream",
     "text": [
      "having: have\n",
      "thanks: thank\n",
      "drivers: driver\n",
      "driving: drive\n"
     ]
    }
   ],
   "source": [
    "for word in words:\n",
    "    print(f'{word}: {stemmer.stem(word)}')"
   ]
  },
  {
   "cell_type": "code",
   "execution_count": 309,
   "id": "61a919c1",
   "metadata": {},
   "outputs": [],
   "source": [
    "words = ['give', 'given', 'giving', 'gave']"
   ]
  },
  {
   "cell_type": "code",
   "execution_count": 310,
   "id": "634add65",
   "metadata": {},
   "outputs": [
    {
     "name": "stdout",
     "output_type": "stream",
     "text": [
      "give: give\n",
      "given: given\n",
      "giving: give\n",
      "gave: gave\n"
     ]
    }
   ],
   "source": [
    "for word in words:\n",
    "    print(f'{word}: {stemmer.stem(word)}')"
   ]
  },
  {
   "cell_type": "markdown",
   "id": "7ee2b1cc",
   "metadata": {},
   "source": [
    "Using the Lancaster Stemmer - A much aggressive stemmer"
   ]
  },
  {
   "cell_type": "code",
   "execution_count": 311,
   "id": "ecffa8f2",
   "metadata": {},
   "outputs": [],
   "source": [
    "from nltk.stem import LancasterStemmer"
   ]
  },
  {
   "cell_type": "code",
   "execution_count": 312,
   "id": "0287a461",
   "metadata": {},
   "outputs": [],
   "source": [
    "stemmer = LancasterStemmer()"
   ]
  },
  {
   "cell_type": "code",
   "execution_count": 313,
   "id": "0d3420c2",
   "metadata": {},
   "outputs": [
    {
     "name": "stdout",
     "output_type": "stream",
     "text": [
      "give: giv\n",
      "given: giv\n",
      "giving: giv\n",
      "gave: gav\n"
     ]
    }
   ],
   "source": [
    "for word in words:\n",
    "    print(f'{word}: {stemmer.stem(word)}')"
   ]
  },
  {
   "cell_type": "markdown",
   "id": "5f721b17",
   "metadata": {},
   "source": [
    "## Lemmatization"
   ]
  },
  {
   "cell_type": "code",
   "execution_count": 314,
   "id": "99478722",
   "metadata": {},
   "outputs": [],
   "source": [
    "from nltk.stem import wordnet, WordNetLemmatizer"
   ]
  },
  {
   "cell_type": "code",
   "execution_count": 315,
   "id": "b17fe4cc",
   "metadata": {},
   "outputs": [],
   "source": [
    "wordLem = WordNetLemmatizer()"
   ]
  },
  {
   "cell_type": "code",
   "execution_count": 316,
   "id": "039f2838",
   "metadata": {},
   "outputs": [],
   "source": [
    "words = ['corpora']"
   ]
  },
  {
   "cell_type": "code",
   "execution_count": 317,
   "id": "7331ff06",
   "metadata": {},
   "outputs": [
    {
     "name": "stdout",
     "output_type": "stream",
     "text": [
      "corpora: corpus\n"
     ]
    }
   ],
   "source": [
    "for word in words:\n",
    "    print(f'{word}: {wordLem.lemmatize(word)}')"
   ]
  },
  {
   "cell_type": "markdown",
   "id": "b4230863",
   "metadata": {},
   "source": [
    "## POS Tagging"
   ]
  },
  {
   "cell_type": "code",
   "execution_count": 318,
   "id": "c9fc346a",
   "metadata": {},
   "outputs": [],
   "source": [
    "sentence = 'He is a natural when it comes to drawing'\n",
    "sent_tokens = word_tokenize(sentence)"
   ]
  },
  {
   "cell_type": "code",
   "execution_count": 319,
   "id": "f13041d5",
   "metadata": {},
   "outputs": [
    {
     "name": "stdout",
     "output_type": "stream",
     "text": [
      "[('He', 'PRP')]\n",
      "[('is', 'VBZ')]\n",
      "[('a', 'DT')]\n",
      "[('natural', 'JJ')]\n",
      "[('when', 'WRB')]\n",
      "[('it', 'PRP')]\n",
      "[('comes', 'VBZ')]\n",
      "[('to', 'TO')]\n",
      "[('drawing', 'VBG')]\n"
     ]
    }
   ],
   "source": [
    "for token in sent_tokens:\n",
    "    print(nltk.pos_tag([token]))"
   ]
  },
  {
   "cell_type": "code",
   "execution_count": 320,
   "id": "089c2565",
   "metadata": {},
   "outputs": [],
   "source": [
    "sentence = 'John is eating a delicious cake'\n",
    "sent_tokens = word_tokenize(sentence)"
   ]
  },
  {
   "cell_type": "code",
   "execution_count": 321,
   "id": "83123bce",
   "metadata": {},
   "outputs": [
    {
     "name": "stdout",
     "output_type": "stream",
     "text": [
      "[('John', 'NNP')]\n",
      "[('is', 'VBZ')]\n",
      "[('eating', 'VBG')]\n",
      "[('a', 'DT')]\n",
      "[('delicious', 'JJ')]\n",
      "[('cake', 'NN')]\n"
     ]
    }
   ],
   "source": [
    "for token in sent_tokens:\n",
    "    print(nltk.pos_tag([token]))"
   ]
  },
  {
   "cell_type": "markdown",
   "id": "82e6584b",
   "metadata": {},
   "source": [
    "## NER"
   ]
  },
  {
   "cell_type": "code",
   "execution_count": 322,
   "id": "9998e512",
   "metadata": {},
   "outputs": [],
   "source": [
    "from nltk import ne_chunk"
   ]
  },
  {
   "cell_type": "code",
   "execution_count": 323,
   "id": "f39bd74f",
   "metadata": {},
   "outputs": [],
   "source": [
    "ne_sentence = \"The US President stays in the White House\""
   ]
  },
  {
   "cell_type": "code",
   "execution_count": 324,
   "id": "13dc7d21",
   "metadata": {},
   "outputs": [
    {
     "data": {
      "text/plain": [
       "[('The', 'DT'),\n",
       " ('US', 'NNP'),\n",
       " ('President', 'NNP'),\n",
       " ('stays', 'VBZ'),\n",
       " ('in', 'IN'),\n",
       " ('the', 'DT'),\n",
       " ('White', 'NNP'),\n",
       " ('House', 'NNP')]"
      ]
     },
     "execution_count": 324,
     "metadata": {},
     "output_type": "execute_result"
    }
   ],
   "source": [
    "ne_tokens = word_tokenize(ne_sentence)\n",
    "ne_pos_tags = nltk.pos_tag(ne_tokens)\n",
    "ne_pos_tags"
   ]
  },
  {
   "cell_type": "code",
   "execution_count": 327,
   "id": "e6a5b283",
   "metadata": {},
   "outputs": [
    {
     "data": {
      "image/svg+xml": [
       "<svg baseProfile=\"full\" height=\"168px\" preserveAspectRatio=\"xMidYMid meet\" style=\"font-family: times, serif; font-weight:normal; font-style: normal; font-size: 16px;\" version=\"1.1\" viewBox=\"0,0,480.0,168.0\" width=\"480px\" xmlns=\"http://www.w3.org/2000/svg\" xmlns:ev=\"http://www.w3.org/2001/xml-events\" xmlns:xlink=\"http://www.w3.org/1999/xlink\"><defs /><svg width=\"100%\" x=\"0\" y=\"0em\"><defs /><text text-anchor=\"middle\" x=\"50%\" y=\"1em\">S</text></svg><svg width=\"8.33333%\" x=\"0%\" y=\"3em\"><defs /><svg width=\"100%\" x=\"0\" y=\"0em\"><defs /><text text-anchor=\"middle\" x=\"50%\" y=\"1em\">The</text></svg><svg width=\"100%\" x=\"0%\" y=\"3em\"><defs /><svg width=\"100%\" x=\"0\" y=\"0em\"><defs /><text text-anchor=\"middle\" x=\"50%\" y=\"1em\">DT</text></svg></svg><line stroke=\"black\" x1=\"50%\" x2=\"50%\" y1=\"1.2em\" y2=\"3em\" /></svg><line stroke=\"black\" x1=\"50%\" x2=\"4.16667%\" y1=\"1.2em\" y2=\"3em\" /><svg width=\"23.3333%\" x=\"8.33333%\" y=\"3em\"><defs /><svg width=\"100%\" x=\"0\" y=\"0em\"><defs /><text text-anchor=\"middle\" x=\"50%\" y=\"1em\">ORGANIZATION</text></svg><svg width=\"100%\" x=\"0%\" y=\"3em\"><defs /><svg width=\"100%\" x=\"0\" y=\"0em\"><defs /><text text-anchor=\"middle\" x=\"50%\" y=\"1em\">US</text></svg><svg width=\"100%\" x=\"0%\" y=\"3em\"><defs /><svg width=\"100%\" x=\"0\" y=\"0em\"><defs /><text text-anchor=\"middle\" x=\"50%\" y=\"1em\">NNP</text></svg></svg><line stroke=\"black\" x1=\"50%\" x2=\"50%\" y1=\"1.2em\" y2=\"3em\" /></svg><line stroke=\"black\" x1=\"50%\" x2=\"50%\" y1=\"1.2em\" y2=\"3em\" /></svg><line stroke=\"black\" x1=\"50%\" x2=\"20%\" y1=\"1.2em\" y2=\"3em\" /><svg width=\"18.3333%\" x=\"31.6667%\" y=\"3em\"><defs /><svg width=\"100%\" x=\"0\" y=\"0em\"><defs /><text text-anchor=\"middle\" x=\"50%\" y=\"1em\">President</text></svg><svg width=\"100%\" x=\"0%\" y=\"3em\"><defs /><svg width=\"100%\" x=\"0\" y=\"0em\"><defs /><text text-anchor=\"middle\" x=\"50%\" y=\"1em\">NNP</text></svg></svg><line stroke=\"black\" x1=\"50%\" x2=\"50%\" y1=\"1.2em\" y2=\"3em\" /></svg><line stroke=\"black\" x1=\"50%\" x2=\"40.8333%\" y1=\"1.2em\" y2=\"3em\" /><svg width=\"11.6667%\" x=\"50%\" y=\"3em\"><defs /><svg width=\"100%\" x=\"0\" y=\"0em\"><defs /><text text-anchor=\"middle\" x=\"50%\" y=\"1em\">stays</text></svg><svg width=\"100%\" x=\"0%\" y=\"3em\"><defs /><svg width=\"100%\" x=\"0\" y=\"0em\"><defs /><text text-anchor=\"middle\" x=\"50%\" y=\"1em\">VBZ</text></svg></svg><line stroke=\"black\" x1=\"50%\" x2=\"50%\" y1=\"1.2em\" y2=\"3em\" /></svg><line stroke=\"black\" x1=\"50%\" x2=\"55.8333%\" y1=\"1.2em\" y2=\"3em\" /><svg width=\"6.66667%\" x=\"61.6667%\" y=\"3em\"><defs /><svg width=\"100%\" x=\"0\" y=\"0em\"><defs /><text text-anchor=\"middle\" x=\"50%\" y=\"1em\">in</text></svg><svg width=\"100%\" x=\"0%\" y=\"3em\"><defs /><svg width=\"100%\" x=\"0\" y=\"0em\"><defs /><text text-anchor=\"middle\" x=\"50%\" y=\"1em\">IN</text></svg></svg><line stroke=\"black\" x1=\"50%\" x2=\"50%\" y1=\"1.2em\" y2=\"3em\" /></svg><line stroke=\"black\" x1=\"50%\" x2=\"65%\" y1=\"1.2em\" y2=\"3em\" /><svg width=\"8.33333%\" x=\"68.3333%\" y=\"3em\"><defs /><svg width=\"100%\" x=\"0\" y=\"0em\"><defs /><text text-anchor=\"middle\" x=\"50%\" y=\"1em\">the</text></svg><svg width=\"100%\" x=\"0%\" y=\"3em\"><defs /><svg width=\"100%\" x=\"0\" y=\"0em\"><defs /><text text-anchor=\"middle\" x=\"50%\" y=\"1em\">DT</text></svg></svg><line stroke=\"black\" x1=\"50%\" x2=\"50%\" y1=\"1.2em\" y2=\"3em\" /></svg><line stroke=\"black\" x1=\"50%\" x2=\"72.5%\" y1=\"1.2em\" y2=\"3em\" /><svg width=\"23.3333%\" x=\"76.6667%\" y=\"3em\"><defs /><svg width=\"100%\" x=\"0\" y=\"0em\"><defs /><text text-anchor=\"middle\" x=\"50%\" y=\"1em\">FACILITY</text></svg><svg width=\"50%\" x=\"0%\" y=\"3em\"><defs /><svg width=\"100%\" x=\"0\" y=\"0em\"><defs /><text text-anchor=\"middle\" x=\"50%\" y=\"1em\">White</text></svg><svg width=\"100%\" x=\"0%\" y=\"3em\"><defs /><svg width=\"100%\" x=\"0\" y=\"0em\"><defs /><text text-anchor=\"middle\" x=\"50%\" y=\"1em\">NNP</text></svg></svg><line stroke=\"black\" x1=\"50%\" x2=\"50%\" y1=\"1.2em\" y2=\"3em\" /></svg><line stroke=\"black\" x1=\"50%\" x2=\"25%\" y1=\"1.2em\" y2=\"3em\" /><svg width=\"50%\" x=\"50%\" y=\"3em\"><defs /><svg width=\"100%\" x=\"0\" y=\"0em\"><defs /><text text-anchor=\"middle\" x=\"50%\" y=\"1em\">House</text></svg><svg width=\"100%\" x=\"0%\" y=\"3em\"><defs /><svg width=\"100%\" x=\"0\" y=\"0em\"><defs /><text text-anchor=\"middle\" x=\"50%\" y=\"1em\">NNP</text></svg></svg><line stroke=\"black\" x1=\"50%\" x2=\"50%\" y1=\"1.2em\" y2=\"3em\" /></svg><line stroke=\"black\" x1=\"50%\" x2=\"75%\" y1=\"1.2em\" y2=\"3em\" /></svg><line stroke=\"black\" x1=\"50%\" x2=\"88.3333%\" y1=\"1.2em\" y2=\"3em\" /></svg>"
      ],
      "text/plain": [
       "Tree('S', [('The', 'DT'), Tree('ORGANIZATION', [('US', 'NNP')]), ('President', 'NNP'), ('stays', 'VBZ'), ('in', 'IN'), ('the', 'DT'), Tree('FACILITY', [('White', 'NNP'), ('House', 'NNP')])])"
      ]
     },
     "execution_count": 327,
     "metadata": {},
     "output_type": "execute_result"
    }
   ],
   "source": [
    "ne_ner = ne_chunk(ne_pos_tags)\n",
    "ne_ner"
   ]
  }
 ],
 "metadata": {
  "kernelspec": {
   "display_name": "Python 3 (ipykernel)",
   "language": "python",
   "name": "python3"
  },
  "language_info": {
   "codemirror_mode": {
    "name": "ipython",
    "version": 3
   },
   "file_extension": ".py",
   "mimetype": "text/x-python",
   "name": "python",
   "nbconvert_exporter": "python",
   "pygments_lexer": "ipython3",
   "version": "3.10.1"
  }
 },
 "nbformat": 4,
 "nbformat_minor": 5
}
